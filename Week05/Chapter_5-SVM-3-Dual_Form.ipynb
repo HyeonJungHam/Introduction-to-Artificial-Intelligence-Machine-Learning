{
 "cells": [
  {
   "cell_type": "markdown",
   "metadata": {},
   "source": [
    "# Dual Problem\n",
    "\n",
    "###  <div align=center> Moon Il-chul(icmoon@kaist.ac.kr); Kim Hye-mi(khm0308@kaist.ac.kr) </div>\n",
    "\n",
    "이전의 차원 변환 코드에서 2차원의 데이터를 3차원으로 확장하여 비선형 Decision Boundary를 그리는 법을 익혔습니다. 여기서 더 나아가, 3차원이 아닌 무한대 차까지 확장하여 데이터를 분류하는 방법이 Kernal Trick입니다.  \n",
    "본 코드에서는 Kernal Trick을 배우기 전에 이해해야 할 2차계획법(Constrained quadratic programming)의 primal problem을 dual problem으로 변환하는 방법을 간단히 다루고 있습니다.  \n",
    "\n",
    "### Lagrange Method를 통한 SVM의 Dual 변환\n",
    "$$min_{w,b}||w||$$\n",
    "$$s.t. (wx_j+b)y_j \\leq 1, \\forall j$$  \n",
    "SVM에 쓰였던 위의 원 quadratic programming의 식을 Lagrange method를 활용하여 dual 함수로 나타내면 다음과 같습니다.\n",
    "$$min_{w,b}max_{\\alpha \\leq 0, \\beta}\\frac{1}{2}w\\cdot w \\sum_{j}\\alpha[(wx_j+b)y_j -1]$$\n",
    "$$s.t. \\alpha_j \\leq 0, \\forall j$$  \n",
    "\n",
    "다음으로 Strong duality를 성립시키는 KKT(Karush-Kunh-Tucker) 조건은 다음과 같습니다.\n",
    "$$\\frac{\\partial L(w,b,\\alpha)}{\\partial w}=0, \\space \\frac{\\partial L(w,b,\\alpha)}{\\partial b}=0\n",
    "$$\n",
    "$$ \\alpha_i \\leq 0, \\forall i $$\n",
    "$$ \\alpha_i((wx_j+b)y_j-1)=0, \\forall i$$  \n",
    "\n",
    "위의 편미분 방정식을 풀면 $w=\\sum_{i=1}^{N}\\alpha_i y_i x_i$, $\\sum_{i=1}^{N}\\alpha_i y_i = 0$의 결과를 얻을 수 있고, 이를 활용하여 $L(w,b,\\alpha)$를 전개하면 다음과 같은 결과를 얻을 수 있습니다.\n",
    "$$L(w,b,\\alpha)=\\sum_{j}\\alpha_j - \\frac{1}{2}\\sum_{i}\\sum_{j}\\alpha_i\\alpha_j y_i y_j x_i x_j$$  \n",
    "기존 SVM이 $w$에 대한 최적화 문제였다면, dual problem은 $\\alpha$에 대한 최적화 문제임을 위의 식을 통해 알 수 있습니다. 위의 식은 KKT 조건으로부터 유도된 식이므로, $\\alpha$를 구할 수 있다면, 이를 통해 $w$ 역시 구할 수 있음을 알 수 있습니다."
   ]
  },
  {
   "cell_type": "code",
   "execution_count": 1,
   "metadata": {},
   "outputs": [],
   "source": [
    "'''\n",
    "@ copyright: AAI lab (http://aailab.kaist.ac.kr/xe2/page_GBex27)\n",
    "@ author: Moon Il-chul: icmoon@kaist.ac.kr\n",
    "@ annotated by Kim Hye-mi: khm0308@kaist.ac.kr\n",
    "'''\n",
    "import numpy as np\n",
    "from cvxopt import matrix, solvers\n",
    "import matplotlib.pyplot as plt"
   ]
  },
  {
   "cell_type": "code",
   "execution_count": 2,
   "metadata": {},
   "outputs": [],
   "source": [
    "%matplotlib inline"
   ]
  },
  {
   "cell_type": "code",
   "execution_count": 3,
   "metadata": {},
   "outputs": [],
   "source": [
    "# Positive / Negative 데이터 생성\n",
    "pos = np.array([[3, 7], [4, 6], [5, 6], [7, 7], [8, 5], [5, 5.2], [7, 5], [6, 3.75], [6, 4], [6, 5], [7, 5], [6, 4.5], [7, 4.5]])\n",
    "neg = np.array([[4, 5], [5, 5], [6, 3], [7, 4], [9, 4], [5, 4], [5, 4.5], [5, 3.5], [7, 3.5]])\n",
    "\n",
    "# 절충 매개변수\n",
    "C = 0.1\n",
    "\n",
    "# X: 전체 데이터를 저장\n",
    "X = np.ones((pos.shape[0]+neg.shape[0], 2))\n",
    "X[0:pos.shape[0], :] = pos # 앞부분은 positive 데이터를 저장\n",
    "X[pos.shape[0]:pos.shape[0]+neg.shape[0], :] = neg # 뒷부분은 negative 데이터를 저장\n",
    "\n",
    "# Y: 전체 데이터에 대한 label을 저장\n",
    "Y = np.ones(pos.shape[0] + neg.shape[0])\n",
    "Y[0:pos.shape[0]] = 1 # 앞부분은 positive 데이터에 대한 label로 +1을 저장\n",
    "Y[pos.shape[0]:pos.shape[0]+neg.shape[0]] = -1 # 뒷부분은 negative 데이터에 대한 label로 -1을 저장"
   ]
  },
  {
   "cell_type": "code",
   "execution_count": 4,
   "metadata": {},
   "outputs": [
    {
     "data": {
      "image/png": "[encoded data removed]",
      "text/plain": [
       "<matplotlib.figure.Figure at 0x28790d26438>"
      ]
     },
     "metadata": {},
     "output_type": "display_data"
    }
   ],
   "source": [
    "# 데이터셋 plotting\n",
    "plt.figure(1, figsize = (7, 7))\n",
    "plt.plot(X[0:pos.shape[0], 0], X[0:pos.shape[0], 1], 'b+', label = 'positive')\n",
    "plt.plot(X[pos.shape[0]:pos.shape[0] + neg.shape[0], 0], \n",
    "         X[pos.shape[0]:pos.shape[0] + neg.shape[0], 1], 'ro', markeredgecolor = 'None', label = 'negative')\n",
    "plt.legend()\n",
    "plt.show()"
   ]
  },
  {
   "cell_type": "markdown",
   "metadata": {},
   "source": [
    "## Primal problem"
   ]
  },
  {
   "cell_type": "code",
   "execution_count": 46,
   "metadata": {},
   "outputs": [
    {
     "name": "stdout",
     "output_type": "stream",
     "text": [
      "     pcost       dcost       gap    pres   dres\n",
      " 0:  7.6558e-01  1.1329e+01  1e+02  2e+00  7e+01\n",
      " 1:  4.3916e+00  1.0059e+00  3e+00  6e-03  2e-01\n",
      " 2:  1.7279e+00  1.4104e+00  3e-01  5e-04  1e-02\n",
      " 3:  1.6118e+00  1.5485e+00  6e-02  1e-04  3e-03\n",
      " 4:  1.5942e+00  1.5823e+00  1e-02  1e-05  4e-04\n",
      " 5:  1.5889e+00  1.5886e+00  3e-04  2e-07  7e-06\n",
      " 6:  1.5888e+00  1.5888e+00  3e-06  3e-09  7e-08\n",
      " 7:  1.5888e+00  1.5888e+00  3e-08  3e-11  7e-10\n",
      "Optimal solution found.\n"
     ]
    }
   ],
   "source": [
    "A = np.zeros((X.shape[0] + X.shape[0], X.shape[1] + 1 + X.shape[0]))\n",
    "    \n",
    "for i in range(X.shape[0]): # for문 에서 제약식에서 (wx+b)y+e>=1 항의 좌측항을 업데이트함\n",
    "    for j in range(X.shape[1]):\n",
    "        #A[i, j] = X[i, j]*Y[i]\n",
    "        A[i, j] = X[i, j]*Y[i]*(-1) # -xij＊yi\n",
    "    #A[i, X.shape[1]] = Y[i]\n",
    "    A[i, X.shape[1]] = Y[i]*(-1) # -bi\n",
    "    A[i, X.shape[1] + i + 1] = -1 # -ei (error)\n",
    "    \n",
    "# 제약식에서 e>=0 항의 좌측항을 나타냄\n",
    "for i in range(X.shape[0]):\n",
    "    A[i + X.shape[0], X.shape[1] + i + 1] = -1\n",
    "    \n",
    "# b: optimization problem에서 제약식 우측항의 값\n",
    "b = np.zeros((X.shape[0] + X.shape[0], 1))\n",
    "# 제약식에서 (wx+b)y+e>=1 항의 우측항을 나타냄; e>=0 항의 우측항은 0으로 위에서 설정됨\n",
    "b[0:X.shape[0]] = -1\n",
    "    \n",
    "# H: w의 quadratic term의 계수\n",
    "H = np.zeros((X.shape[1] + 1 + X.shape[0], X.shape[1] + 1 + X.shape[0]))\n",
    "for i in range(X.shape[1]):\n",
    "    H[i, i] = 1\n",
    "\n",
    "f = np.zeros(X.shape[1] + 1 + X.shape[0])\n",
    "# w의 일차항의 계수로 에러항에 곱해줄 절충 매개변수 C (slack variable에 대한 계수)\n",
    "for i in range(X.shape[1] + 1, X.shape[1] + 1 + X.shape[0]):\n",
    "    f[i] = C\n",
    "\n",
    "H = matrix(H)\n",
    "f = matrix(f)\n",
    "A = matrix(A)\n",
    "b = matrix(b)\n",
    "    \n",
    "# optimization problem을 풀어줌: min 1/2xTHx+fTx s.t. Ax =< b\n",
    "sol = solvers.qp(H, f, A, b)\n",
    "w_prial = sol['x']"
   ]
  },
  {
   "cell_type": "markdown",
   "metadata": {},
   "source": [
    "## Dual Problem"
   ]
  },
  {
   "cell_type": "code",
   "execution_count": 47,
   "metadata": {},
   "outputs": [
    {
     "name": "stdout",
     "output_type": "stream",
     "text": [
      "     pcost       dcost       gap    pres   dres\n",
      " 0: -7.7115e+00 -4.6032e+00  1e+02  1e+01  2e-14\n",
      " 1: -1.2660e+00 -4.4002e+00  3e+00  2e-02  2e-14\n",
      " 2: -1.4166e+00 -1.7287e+00  3e-01  2e-03  4e-15\n",
      " 3: -1.5495e+00 -1.6119e+00  6e-02  4e-04  6e-15\n",
      " 4: -1.5825e+00 -1.5942e+00  1e-02  6e-05  6e-15\n",
      " 5: -1.5886e+00 -1.5889e+00  3e-04  1e-06  7e-15\n",
      " 6: -1.5888e+00 -1.5888e+00  3e-06  1e-08  4e-15\n",
      " 7: -1.5888e+00 -1.5888e+00  3e-08  1e-10  4e-15\n",
      "Optimal solution found.\n"
     ]
    }
   ],
   "source": [
    "# L(w, b, x)의 2차항의 계수 (ΣΣaiajxixjyiyj)\n",
    "H = np.zeros((pos.shape[0] + neg.shape[0], pos.shape[0] + neg.shape[0]))\n",
    "\n",
    "for i in range(pos.shape[0] + neg.shape[0]):\n",
    "    for j in range(pos.shape[0] + neg.shape[0]):\n",
    "        H[i,j] += np.dot(X[i,:], X[j, :]) * Y[i] * Y[j] * -1\n",
    "\n",
    "# L(w, b, x)의 1차수의 계수 (0)\n",
    "f = np.ones(pos.shape[0] + neg.shape[0])\n",
    "\n",
    "H = -1*H\n",
    "f = -1*f\n",
    "\n",
    "# ai > C\n",
    "A = np.zeros((pos.shape[0] + neg.shape[0] + pos.shape[0] + neg.shape[0], pos.shape[0] + neg.shape[0]))\n",
    "b = np.zeros(pos.shape[0] + neg.shape[0] + pos.shape[0] + neg.shape[0])\n",
    "\n",
    "for i in range(pos.shape[0] + neg.shape[0]):\n",
    "    A[i, i] = -1\n",
    "    A[i + pos.shape[0] + neg.shape[0], i] = 1\n",
    "    b[i + pos.shape[0] + neg.shape[0]] = C\n",
    "\n",
    "# KKT 조건 중 Σaiyi = 0 의 계수\n",
    "Aeq = np.zeros((1, pos.shape[0] + neg.shape[0]))\n",
    "Beq = np.zeros((1, 1))\n",
    "\n",
    "for i in range(pos.shape[0] + neg.shape[0]):\n",
    "    Aeq[0, i] = Y[i]\n",
    "\n",
    "f = matrix(f)\n",
    "H = matrix(H)\n",
    "A = matrix(A)\n",
    "b = matrix(b)\n",
    "Aeq = matrix(Aeq)\n",
    "Beq = matrix(Beq)\n",
    "\n",
    "# optimization problem을 풀어줌: min 1/2xTHx+fTx s.t. Ax =< b, A_eq x = Beq\n",
    "sol = solvers.qp(H, f, A, b, Aeq, Beq)\n",
    "alpha = sol['x']"
   ]
  },
  {
   "cell_type": "code",
   "execution_count": 48,
   "metadata": {},
   "outputs": [],
   "source": [
    "# w = Σ aiyixi\n",
    "w = np.zeros(pos.shape[1] + 1)\n",
    "for j in range(pos.shape[1]):\n",
    "    for i in range(pos.shape[0] + neg.shape[0]):\n",
    "        w[j] += alpha[i]*Y[i]*X[i,j]\n",
    "\n",
    "# b = yi - w(=Σ aiyixi)\n",
    "wx = np.asarray(np.dot(w[0:pos.shape[1]], X.T))\n",
    "bs = Y - wx\n",
    "w[2] = bs[1]"
   ]
  },
  {
   "cell_type": "code",
   "execution_count": 59,
   "metadata": {
    "scrolled": true
   },
   "outputs": [
    {
     "name": "stdout",
     "output_type": "stream",
     "text": [
      "\n"
     ]
    },
    {
     "data": {
      "image/png": "[encoded data removed]",
      "text/plain": [
       "<matplotlib.figure.Figure at 0x2879ca92ba8>"
      ]
     },
     "metadata": {},
     "output_type": "display_data"
    }
   ],
   "source": [
    "# Positive / Negative 데이터 plotting\n",
    "#plt.figure(1, figsize = (7, 7))\n",
    "plt.figure(1, figsize = (12, 5))\n",
    "plt.subplot(121)\n",
    "plt.title('Primal problem', fontsize = 20)\n",
    "plt.plot(X[0:pos.shape[0], 0], X[0:pos.shape[0], 1], 'b+', label = 'positive')\n",
    "plt.plot(X[pos.shape[0]:pos.shape[0] + neg.shape[0], 0], \n",
    "         X[pos.shape[0]:pos.shape[0] + neg.shape[0], 1], 'ro', markeredgecolor = 'None', label = 'negative')\n",
    "plt.legend()\n",
    "\n",
    "lineX = [1, 10]\n",
    "    \n",
    "# plotting decision-boundary\n",
    "lineY0 = [(w_prial[2] + w_prial[0]*lineX[0])/-w_prial[1], (w_prial[2] + w_prial[0]*lineX[1])/-w_prial[1]]\n",
    "plt.plot(lineX, lineY0, 'm-')\n",
    "\n",
    "# margin distance 계산\n",
    "margin = 1 / np.linalg.norm(w_prial[0:2])\n",
    "\n",
    "# Positive data 가운데 Negative data들과 가장 가까운 두개의 점을 지나는 직선\n",
    "lineY1 = [(w_prial[2] + w_prial[0]*lineX[0])/-w_prial[1] + margin, (w_prial[2] + w_prial[0]*lineX[1])/-w_prial[1] + margin]\n",
    "plt.plot(lineX, lineY1, 'b-')\n",
    "\n",
    "# Negative data 가운데 Negative data들과 가장 가까운 점을 지나는 직선\n",
    "lineY2 = [(w_prial[2] + w_prial[0]*lineX[0])/-w_prial[1] - margin, (w_prial[2] + w_prial[0]*lineX[1])/-w_prial[1] - margin]\n",
    "plt.plot(lineX, lineY2, 'r-')\n",
    "    \n",
    "print('')\n",
    "\n",
    "# Positive / Negative 데이터 plotting\n",
    "plt.subplot(122)\n",
    "#plt.figure(2, figsize = (7, 7))\n",
    "plt.title('Dual problem', fontsize = 20)\n",
    "plt.plot(X[0:pos.shape[0], 0], X[0:pos.shape[0], 1], 'b+', label = 'positive')\n",
    "plt.plot(X[pos.shape[0]:pos.shape[0] + neg.shape[0], 0], \n",
    "         X[pos.shape[0]:pos.shape[0] + neg.shape[0], 1], 'ro', markeredgecolor = 'None', label = 'negative')\n",
    "plt.legend()\n",
    "\n",
    "lineX = [1, 10]\n",
    "\n",
    "# plotting decision-boundary\n",
    "lineY0 = [(w[2] + w[0]*lineX[0])/-w[1], (w[2] + w[0]*lineX[1])/-w[1]]\n",
    "plt.plot(lineX, lineY0, 'm-')\n",
    "\n",
    "# margin distance 계산\n",
    "margin = 1 / np.linalg.norm(w[0:2])\n",
    "\n",
    "# decision-boundary에서 margin distance만큼 떨어진 직선\n",
    "lineY1 = [(w[2] + w[0]*lineX[0])/-w[1] + margin, (w[2] + w[0]*lineX[1])/-w[1] + margin]\n",
    "plt.plot(lineX, lineY1, 'b-')\n",
    "\n",
    "# decision-boundary에서 margin distance만큼 떨어진 직선\n",
    "lineY2 = [(w[2] + w[0]*lineX[0])/-w[1] - margin, (w[2] + w[0]*lineX[1])/-w[1] - margin]\n",
    "plt.plot(lineX, lineY2, 'r-')\n",
    "\n",
    "plt.show()"
   ]
  },
  {
   "cell_type": "markdown",
   "metadata": {},
   "source": [
    "## 결과해석부\n",
    "왼쪽 그래프는 Primal 문제의 최적화 식을 푼 결과입니다. 오른쪽 그래프는 (Primal 문제에 대한) Dual 문제의 최적화 식을 푼 결과입니다. 이 그래프를 통해 Primal Problem과 KKT 조건을 만족하는 Dual Problem의 결과는 동일함을 알 수 있습니다."
   ]
  }
 ],
 "metadata": {
  "kernelspec": {
   "display_name": "Python 3",
   "language": "python",
   "name": "python3"
  },
  "language_info": {
   "codemirror_mode": {
    "name": "ipython",
    "version": 3
   },
   "file_extension": ".py",
   "mimetype": "text/x-python",
   "name": "python",
   "nbconvert_exporter": "python",
   "pygments_lexer": "ipython3",
   "version": "3.5.5"
  }
 },
 "nbformat": 4,
 "nbformat_minor": 1
}
